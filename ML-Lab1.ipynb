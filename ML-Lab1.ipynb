{
 "cells": [
  {
   "cell_type": "markdown",
   "id": "4397c0c7",
   "metadata": {},
   "source": [
    "OPERATIONS USING NUMPY"
   ]
  },
  {
   "cell_type": "code",
   "execution_count": 56,
   "id": "b78c1b3f",
   "metadata": {},
   "outputs": [],
   "source": [
    "import numpy as np"
   ]
  },
  {
   "cell_type": "code",
   "execution_count": 57,
   "id": "ebafc9a3",
   "metadata": {},
   "outputs": [
    {
     "name": "stdout",
     "output_type": "stream",
     "text": [
      "Array =  [1 2 4 5 2 5 7 9 4 2 3]\n"
     ]
    }
   ],
   "source": [
    "arr = np.array([1,2,4,5,2,5,7,9,4,2,3])\n",
    "print('Array = ', arr)"
   ]
  },
  {
   "cell_type": "markdown",
   "id": "9549de55",
   "metadata": {},
   "source": [
    "1)Indexing, Slicing\n"
   ]
  },
  {
   "cell_type": "code",
   "execution_count": 58,
   "id": "3ce2a174",
   "metadata": {},
   "outputs": [
    {
     "name": "stdout",
     "output_type": "stream",
     "text": [
      "1st Element = 1\n",
      "Last Element = 3\n",
      "slicing =  [1 2 4 5 2 5] [7 9 4 2 3] [1 4 2 7 4 3]\n"
     ]
    }
   ],
   "source": [
    "print(\"1st Element =\", arr[0])\n",
    "print(\"Last Element =\", arr[-1])\n",
    "print(\"slicing = \", arr[:6:], arr[6::], arr[::2])"
   ]
  },
  {
   "cell_type": "markdown",
   "id": "5d0d2aac",
   "metadata": {},
   "source": [
    "2)Masking"
   ]
  },
  {
   "cell_type": "code",
   "execution_count": 63,
   "id": "c0d8bd6b",
   "metadata": {},
   "outputs": [
    {
     "name": "stdout",
     "output_type": "stream",
     "text": [
      "Above average values: [15 20]\n"
     ]
    }
   ],
   "source": [
    "arr1 = np.array([5, 10, 15, 20])\n",
    "mask = arr1 > arr1.mean()\n",
    "print(\"Above average values:\", arr1[mask])"
   ]
  },
  {
   "cell_type": "markdown",
   "id": "5590e5f9",
   "metadata": {},
   "source": [
    "3)Stacking"
   ]
  },
  {
   "cell_type": "code",
   "execution_count": 60,
   "id": "944b0c10",
   "metadata": {},
   "outputs": [
    {
     "name": "stdout",
     "output_type": "stream",
     "text": [
      " Matrix:\n",
      " [[18 23 22]\n",
      " [22 12 15]\n",
      " [19 20 17]]\n"
     ]
    }
   ],
   "source": [
    "A = np.array([18, 22, 19])\n",
    "B = np.array([23, 12, 20])\n",
    "C = np.array([22, 15, 17])\n",
    "Matrix = np.column_stack((A, B, C))\n",
    "print(\" Matrix:\\n\", Matrix)"
   ]
  },
  {
   "cell_type": "markdown",
   "id": "2056125e",
   "metadata": {},
   "source": [
    "4)Sorting"
   ]
  },
  {
   "cell_type": "code",
   "execution_count": 74,
   "id": "cac167bf",
   "metadata": {},
   "outputs": [
    {
     "name": "stdout",
     "output_type": "stream",
     "text": [
      "Sorted: [ 1  2  2  3  4  5  7  8 10]\n",
      "Index of max: 5\n",
      "Index of min: 1\n"
     ]
    }
   ],
   "source": [
    "arr2 = np.array([3, 1, 5, 2,4,10,7,2,8])\n",
    "sorted_arr = np.sort(arr2)\n",
    "print(\"Sorted:\", sorted_arr)\n",
    "print(\"Index of max:\", np.argmax(arr2))\n",
    "print(\"Index of min:\", np.argmin(arr2))"
   ]
  },
  {
   "cell_type": "markdown",
   "id": "aa39e00a",
   "metadata": {},
   "source": [
    "5)Matrix operations"
   ]
  },
  {
   "cell_type": "code",
   "execution_count": 92,
   "id": "0b60d6c1",
   "metadata": {},
   "outputs": [
    {
     "name": "stdout",
     "output_type": "stream",
     "text": [
      "Dot product of A and B:\n",
      " [[19 22]\n",
      " [43 50]]\n",
      "Addition of A and B:\n",
      " [[ 6  8]\n",
      " [10 12]]\n",
      "Transpose of A:\n",
      " [[1 3]\n",
      " [2 4]]\n",
      "Transpose of B:\n",
      " [[5 7]\n",
      " [6 8]]\n"
     ]
    }
   ],
   "source": [
    "A = np.array([[1, 2], [3, 4]])\n",
    "B = np.array([[5, 6], [7, 8]])\n",
    "dot = np.dot(A, B)\n",
    "add = A + B\n",
    "\n",
    "print(\"Dot product of A and B:\\n\", dot)\n",
    "print(\"Addition of A and B:\\n\",add)\n",
    "print(\"Transpose of A:\\n\",A.T)\n",
    "print(\"Transpose of B:\\n\",B.T)\n"
   ]
  },
  {
   "cell_type": "markdown",
   "id": "17bb88c1",
   "metadata": {},
   "source": [
    "Opetations using Pandas"
   ]
  },
  {
   "cell_type": "code",
   "execution_count": 94,
   "id": "cf7e6d56",
   "metadata": {},
   "outputs": [],
   "source": [
    "import pandas as pd"
   ]
  },
  {
   "cell_type": "code",
   "execution_count": 100,
   "id": "f7d9891a",
   "metadata": {},
   "outputs": [
    {
     "data": {
      "text/html": [
       "<div>\n",
       "<style scoped>\n",
       "    .dataframe tbody tr th:only-of-type {\n",
       "        vertical-align: middle;\n",
       "    }\n",
       "\n",
       "    .dataframe tbody tr th {\n",
       "        vertical-align: top;\n",
       "    }\n",
       "\n",
       "    .dataframe thead th {\n",
       "        text-align: right;\n",
       "    }\n",
       "</style>\n",
       "<table border=\"1\" class=\"dataframe\">\n",
       "  <thead>\n",
       "    <tr style=\"text-align: right;\">\n",
       "      <th></th>\n",
       "      <th>age</th>\n",
       "      <th>sex</th>\n",
       "      <th>bmi</th>\n",
       "      <th>children</th>\n",
       "      <th>smoker</th>\n",
       "      <th>region</th>\n",
       "      <th>charges</th>\n",
       "    </tr>\n",
       "  </thead>\n",
       "  <tbody>\n",
       "    <tr>\n",
       "      <th>0</th>\n",
       "      <td>19</td>\n",
       "      <td>female</td>\n",
       "      <td>27.900</td>\n",
       "      <td>0</td>\n",
       "      <td>yes</td>\n",
       "      <td>southwest</td>\n",
       "      <td>16884.92400</td>\n",
       "    </tr>\n",
       "    <tr>\n",
       "      <th>1</th>\n",
       "      <td>18</td>\n",
       "      <td>male</td>\n",
       "      <td>33.770</td>\n",
       "      <td>1</td>\n",
       "      <td>no</td>\n",
       "      <td>southeast</td>\n",
       "      <td>1725.55230</td>\n",
       "    </tr>\n",
       "    <tr>\n",
       "      <th>2</th>\n",
       "      <td>28</td>\n",
       "      <td>male</td>\n",
       "      <td>33.000</td>\n",
       "      <td>3</td>\n",
       "      <td>no</td>\n",
       "      <td>southeast</td>\n",
       "      <td>4449.46200</td>\n",
       "    </tr>\n",
       "    <tr>\n",
       "      <th>3</th>\n",
       "      <td>33</td>\n",
       "      <td>male</td>\n",
       "      <td>22.705</td>\n",
       "      <td>0</td>\n",
       "      <td>no</td>\n",
       "      <td>northwest</td>\n",
       "      <td>21984.47061</td>\n",
       "    </tr>\n",
       "    <tr>\n",
       "      <th>4</th>\n",
       "      <td>32</td>\n",
       "      <td>male</td>\n",
       "      <td>28.880</td>\n",
       "      <td>0</td>\n",
       "      <td>no</td>\n",
       "      <td>northwest</td>\n",
       "      <td>3866.85520</td>\n",
       "    </tr>\n",
       "  </tbody>\n",
       "</table>\n",
       "</div>"
      ],
      "text/plain": [
       "   age     sex     bmi  children smoker     region      charges\n",
       "0   19  female  27.900         0    yes  southwest  16884.92400\n",
       "1   18    male  33.770         1     no  southeast   1725.55230\n",
       "2   28    male  33.000         3     no  southeast   4449.46200\n",
       "3   33    male  22.705         0     no  northwest  21984.47061\n",
       "4   32    male  28.880         0     no  northwest   3866.85520"
      ]
     },
     "execution_count": 100,
     "metadata": {},
     "output_type": "execute_result"
    }
   ],
   "source": [
    "df = pd.read_csv(\"insurance.csv\")\n",
    "df.head()"
   ]
  },
  {
   "cell_type": "markdown",
   "id": "b9a83c08",
   "metadata": {},
   "source": [
    "1)null value"
   ]
  },
  {
   "cell_type": "code",
   "execution_count": 115,
   "id": "c646d03b",
   "metadata": {},
   "outputs": [
    {
     "data": {
      "text/plain": [
       "age         0\n",
       "sex         0\n",
       "bmi         0\n",
       "children    0\n",
       "smoker      0\n",
       "region      0\n",
       "charges     0\n",
       "dtype: int64"
      ]
     },
     "execution_count": 115,
     "metadata": {},
     "output_type": "execute_result"
    }
   ],
   "source": [
    "df.isnull().sum()"
   ]
  },
  {
   "cell_type": "markdown",
   "id": "e63896dd",
   "metadata": {},
   "source": [
    "2)Dataframe info"
   ]
  },
  {
   "cell_type": "code",
   "execution_count": 117,
   "id": "e31975ab",
   "metadata": {},
   "outputs": [
    {
     "data": {
      "text/html": [
       "<div>\n",
       "<style scoped>\n",
       "    .dataframe tbody tr th:only-of-type {\n",
       "        vertical-align: middle;\n",
       "    }\n",
       "\n",
       "    .dataframe tbody tr th {\n",
       "        vertical-align: top;\n",
       "    }\n",
       "\n",
       "    .dataframe thead th {\n",
       "        text-align: right;\n",
       "    }\n",
       "</style>\n",
       "<table border=\"1\" class=\"dataframe\">\n",
       "  <thead>\n",
       "    <tr style=\"text-align: right;\">\n",
       "      <th></th>\n",
       "      <th>age</th>\n",
       "      <th>bmi</th>\n",
       "      <th>children</th>\n",
       "      <th>charges</th>\n",
       "    </tr>\n",
       "  </thead>\n",
       "  <tbody>\n",
       "    <tr>\n",
       "      <th>count</th>\n",
       "      <td>1338.000000</td>\n",
       "      <td>1338.000000</td>\n",
       "      <td>1338.000000</td>\n",
       "      <td>1338.000000</td>\n",
       "    </tr>\n",
       "    <tr>\n",
       "      <th>mean</th>\n",
       "      <td>39.207025</td>\n",
       "      <td>30.663397</td>\n",
       "      <td>1.094918</td>\n",
       "      <td>13270.422265</td>\n",
       "    </tr>\n",
       "    <tr>\n",
       "      <th>std</th>\n",
       "      <td>14.049960</td>\n",
       "      <td>6.098187</td>\n",
       "      <td>1.205493</td>\n",
       "      <td>12110.011237</td>\n",
       "    </tr>\n",
       "    <tr>\n",
       "      <th>min</th>\n",
       "      <td>18.000000</td>\n",
       "      <td>15.960000</td>\n",
       "      <td>0.000000</td>\n",
       "      <td>1121.873900</td>\n",
       "    </tr>\n",
       "    <tr>\n",
       "      <th>25%</th>\n",
       "      <td>27.000000</td>\n",
       "      <td>26.296250</td>\n",
       "      <td>0.000000</td>\n",
       "      <td>4740.287150</td>\n",
       "    </tr>\n",
       "    <tr>\n",
       "      <th>50%</th>\n",
       "      <td>39.000000</td>\n",
       "      <td>30.400000</td>\n",
       "      <td>1.000000</td>\n",
       "      <td>9382.033000</td>\n",
       "    </tr>\n",
       "    <tr>\n",
       "      <th>75%</th>\n",
       "      <td>51.000000</td>\n",
       "      <td>34.693750</td>\n",
       "      <td>2.000000</td>\n",
       "      <td>16639.912515</td>\n",
       "    </tr>\n",
       "    <tr>\n",
       "      <th>max</th>\n",
       "      <td>64.000000</td>\n",
       "      <td>53.130000</td>\n",
       "      <td>5.000000</td>\n",
       "      <td>63770.428010</td>\n",
       "    </tr>\n",
       "  </tbody>\n",
       "</table>\n",
       "</div>"
      ],
      "text/plain": [
       "               age          bmi     children       charges\n",
       "count  1338.000000  1338.000000  1338.000000   1338.000000\n",
       "mean     39.207025    30.663397     1.094918  13270.422265\n",
       "std      14.049960     6.098187     1.205493  12110.011237\n",
       "min      18.000000    15.960000     0.000000   1121.873900\n",
       "25%      27.000000    26.296250     0.000000   4740.287150\n",
       "50%      39.000000    30.400000     1.000000   9382.033000\n",
       "75%      51.000000    34.693750     2.000000  16639.912515\n",
       "max      64.000000    53.130000     5.000000  63770.428010"
      ]
     },
     "execution_count": 117,
     "metadata": {},
     "output_type": "execute_result"
    }
   ],
   "source": [
    "df.describe()"
   ]
  },
  {
   "cell_type": "markdown",
   "id": "cceeedb3",
   "metadata": {},
   "source": [
    "3)Group and Summarize"
   ]
  },
  {
   "cell_type": "code",
   "execution_count": 112,
   "id": "0f0defd0",
   "metadata": {},
   "outputs": [
    {
     "name": "stdout",
     "output_type": "stream",
     "text": [
      "            Avg_Charges    Avg_Age  Total_Children\n",
      "region                                            \n",
      "northeast  13406.384516  39.268519             339\n",
      "northwest  12417.575374  39.196923             373\n",
      "southeast  14735.411438  38.939560             382\n",
      "southwest  12346.937377  39.455385             371\n"
     ]
    }
   ],
   "source": [
    "summary = df.groupby('region').agg(\n",
    "    Avg_Charges=('charges', 'mean'),\n",
    "    Avg_Age=('age', 'mean'),\n",
    "    Total_Children=('children', 'sum')\n",
    ")\n",
    "print(summary)"
   ]
  },
  {
   "cell_type": "markdown",
   "id": "59192e19",
   "metadata": {},
   "source": [
    "4)Value Count"
   ]
  },
  {
   "cell_type": "code",
   "execution_count": 123,
   "id": "c8c4b3ea",
   "metadata": {},
   "outputs": [
    {
     "data": {
      "text/plain": [
       "sex\n",
       "male      676\n",
       "female    662\n",
       "Name: count, dtype: int64"
      ]
     },
     "execution_count": 123,
     "metadata": {},
     "output_type": "execute_result"
    }
   ],
   "source": [
    "df['sex'].value_counts()"
   ]
  },
  {
   "cell_type": "markdown",
   "id": "9ecccbbe",
   "metadata": {},
   "source": [
    "5)Plot"
   ]
  },
  {
   "cell_type": "code",
   "execution_count": 139,
   "id": "0952f34d",
   "metadata": {},
   "outputs": [
    {
     "data": {
      "image/png": "[encoded data removed]",
      "text/plain": [
       "<Figure size 640x480 with 1 Axes>"
      ]
     },
     "metadata": {},
     "output_type": "display_data"
    }
   ],
   "source": [
    "graph = df.plot(kind='scatter', x='age', y= 'charges')\n"
   ]
  },
  {
   "cell_type": "code",
   "execution_count": null,
   "id": "468ca4e5",
   "metadata": {},
   "outputs": [],
   "source": []
  }
 ],
 "metadata": {
  "kernelspec": {
   "display_name": "base",
   "language": "python",
   "name": "python3"
  },
  "language_info": {
   "codemirror_mode": {
    "name": "ipython",
    "version": 3
   },
   "file_extension": ".py",
   "mimetype": "text/x-python",
   "name": "python",
   "nbconvert_exporter": "python",
   "pygments_lexer": "ipython3",
   "version": "3.12.7"
  }
 },
 "nbformat": 4,
 "nbformat_minor": 5
}
